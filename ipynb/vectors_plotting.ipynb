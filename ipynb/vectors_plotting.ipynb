{
 "cells": [
  {
   "cell_type": "markdown",
   "metadata": {},
   "source": [
    "# Vectors Plotting Practice\n",
    "**Author**: [Your Name] (pledged)\n",
    "**Course**: DSC 105, Introduction to Data Science, Lyon College, Fall 2025\n",
    "\n",
    "## Readme\n",
    "- Put your name at the top next to the pledge.\n",
    "- Answer all questions that you can answer.\n",
    "- Do not use AI.\n",
    "- Upload the URL to your completed DataLab notebook to Canvas at the end of the session, no matter how far you've got.\n",
    "\n",
    "## Instructions\n",
    "This is a short 30-45 minute exercise to review plotting vectors in various formats - as histogram, bar plot, line plot, or scatter plot. Complete the following 13 problems in this notebook.\n",
    "\n",
    "- Add short comments in code cells to explain your output.\n",
    "- Answer questions in the provided text blocks where specified.\n",
    "- Save the notebook as `vectors_plotting_practice.ipynb`.\n",
    "- Share the DataLab link in Canvas."
   ]
  },
  {
   "cell_type": "markdown",
   "metadata": {},
   "source": [
    "## 1. Load uspop Dataset\n",
    "\n",
    "Load the dataset `uspop` into your current R session, and list all user-defined objects of this session (the output should be `\"uspop\"` - if not, you should know what to do using `rm`)."
   ]
  },
  {
   "cell_type": "code",
   "execution_count": null,
   "metadata": {},
   "outputs": [],
   "source": []
  },
  {
   "cell_type": "markdown",
   "metadata": {},
   "source": [
    "## 2. Check Structure of uspop\n",
    "\n",
    "Check the structure of the `uspop` dataset."
   ]
  },
  {
   "cell_type": "code",
   "execution_count": null,
   "metadata": {},
   "outputs": [],
   "source": [
    "str(uspop)"
   ]
  },
  {
   "cell_type": "markdown",
   "metadata": {},
   "source": [
    "## 3. Print uspop Values\n",
    "\n",
    "Print the values of the `uspop` dataset."
   ]
  },
  {
   "cell_type": "code",
   "execution_count": null,
   "metadata": {},
   "outputs": [],
   "source": [
    "uspop"
   ]
  },
  {
   "cell_type": "markdown",
   "metadata": {},
   "source": [
    "## 4. Save uspop Help\n",
    "\n",
    "Look up the help for `uspop` - save it to a file to look at it using `capture.output`."
   ]
  },
  {
   "cell_type": "code",
   "execution_count": null,
   "metadata": {},
   "outputs": [],
   "source": []
  },
  {
   "cell_type": "markdown",
   "metadata": {},
   "source": [
    "## 5. Line Plot for uspop\n",
    "\n",
    "Create a line plot for `uspop`."
   ]
  },
  {
   "cell_type": "code",
   "execution_count": null,
   "metadata": {},
   "outputs": [],
   "source": []
  },
  {
   "cell_type": "markdown",
   "metadata": {},
   "source": [
    "## 6. Customized Line Plot\n",
    "\n",
    "Replace the x- and y-axis labels and add a title: use `\"Year\"` for the x-axis, `\"Population [millions]\"` for the y-axis, and `\"U.S. Population 1790-1970 Decennial Census Data\"` for the title."
   ]
  },
  {
   "cell_type": "code",
   "execution_count": null,
   "metadata": {},
   "outputs": [],
   "source": []
  },
  {
   "cell_type": "markdown",
   "metadata": {},
   "source": [
    "## 7. Example Plot from Help\n",
    "\n",
    "Run the `plot` command from the `examples` section of the `help` file for `uspop`."
   ]
  },
  {
   "cell_type": "code",
   "execution_count": null,
   "metadata": {},
   "outputs": [],
   "source": []
  },
  {
   "cell_type": "markdown",
   "metadata": {},
   "source": [
    "## 8. Explain Plot Difference\n",
    "\n",
    "Can you explain the difference between these two plots (from questions 6 and 7)?\n",
    "\n",
    "**Answer**: ..."
   ]
  },
  {
   "cell_type": "markdown",
   "metadata": {},
   "source": [
    "## 9. Histogram of uspop\n",
    "\n",
    "What would a histogram of this dataset look like? Create one (it's not very interesting because it doesn't show change over time). Change the title to `\"Histogram of U.S. Population 1790-1970\"`, and the x-axis label to `\"Population [millions]\"`."
   ]
  },
  {
   "cell_type": "code",
   "execution_count": null,
   "metadata": {},
   "outputs": [],
   "source": []
  },
  {
   "cell_type": "markdown",
   "metadata": {},
   "source": [
    "## 10. Load and Inspect women Dataset\n",
    "\n",
    "Load the built-in `women` dataset and display its structure."
   ]
  },
  {
   "cell_type": "code",
   "execution_count": null,
   "metadata": {},
   "outputs": [],
   "source": []
  },
  {
   "cell_type": "markdown",
   "metadata": {},
   "source": [
    "## 11. Scatterplot for women Dataset\n",
    "\n",
    "Create a scatterplot of the women's `weight` as a function of `height`. Title the plot `\"Womens' Height vs. Weight\"`, and rename the x- and y-axis labels to `\"Height (in)\"` and `\"Weight [lbs]\"`, respectively."
   ]
  },
  {
   "cell_type": "code",
   "execution_count": null,
   "metadata": {},
   "outputs": [],
   "source": []
  },
  {
   "cell_type": "markdown",
   "metadata": {},
   "source": [
    "## 12. Plot ChickWeight Weight vs. Diet\n",
    "\n",
    "Load the `ChickWeight` dataset. It has a numeric vector `weight` and a factor named `Diet` for different diets of the chickens. Plot the `weight` of the chickens as a function of the `Diet`."
   ]
  },
  {
   "cell_type": "code",
   "execution_count": null,
   "metadata": {},
   "outputs": [],
   "source": []
  },
  {
   "cell_type": "markdown",
   "metadata": {},
   "source": [
    "## 13. Bar Plot of ChickWeight Diet\n",
    "\n",
    "Create a bar plot of the factor variable `Diet` of the `ChickWeight` dataset, title it `\"Chickens by Diet Type\"`, change the factor level labels to `\"Diet 1\"`, `\"Diet 2\"`, `\"Diet 3\"`, and `\"Diet 4\"`, and add a y-axis label `\"Number of Chickens\"`."
   ]
  },
  {
   "cell_type": "code",
   "execution_count": null,
   "metadata": {},
   "outputs": [],
   "source": []
  },
  {
   "cell_type": "markdown",
   "metadata": {},
   "source": [
    "## Submission Notes\n",
    "\n",
    "- Save this notebook as `vectors_plotting_practice.ipynb`.\n",
    "- Replace `[Your Name]` with your name in the author field.\n",
    "- Upload the DataLab link to Canvas, no matter how far you've got."
   ]
  }
 ],
 "metadata": {
  "kernelspec": {
   "display_name": "R",
   "language": "R",
   "name": "ir"
  },
  "language_info": {
   "codemirror_mode": "r",
   "file_extension": ".r",
   "mimetype": "text/x-r-source",
   "name": "R",
   "pygments_lexer": "r",
   "version": "4.0.3"
  }
 },
 "nbformat": 4,
 "nbformat_minor": 4
}