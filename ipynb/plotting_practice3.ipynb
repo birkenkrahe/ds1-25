{
 "cells": [
  {
   "cell_type": "markdown",
   "metadata": {},
   "source": [
    "# Plotting Practice: Scatter Plot Section\n",
    "**Course**: Introduction to Data Science (DSC 105), Lyon College, Fall 2025\n",
    "\n",
    "## Instructions\n",
    "This code-along exercise focuses on plotting scatter plots using the built-in R dataset `ToothGrowth`. Complete the tasks below in this notebook.\n",
    "\n",
    "- Answer questions in the provided text blocks where specified.\n",
    "- Do not use AI.\n",
    "- Save the notebook as `scatter_plot_practice.ipynb`.\n",
    "- Upload the DataLab link to Canvas."
   ]
  },
  {
   "cell_type": "markdown",
   "metadata": {},
   "source": [
    "## Plotting the Scatter Plot"
   ]
  },
  {
   "cell_type": "markdown",
   "metadata": {},
   "source": [
    "### 1. Structure of ToothGrowth\n",
    "\n",
    "Check out the structure of the `ToothGrowth` dataset."
   ]
  },
  {
   "cell_type": "code",
   "execution_count": null,
   "metadata": {},
   "outputs": [],
   "source": []
  },
  {
   "cell_type": "markdown",
   "metadata": {},
   "source": [
    "### 2. Scatter Plot of len\n",
    "\n",
    "Make a plot of the `len` variable (tooth length of the guinea pigs)."
   ]
  },
  {
   "cell_type": "code",
   "execution_count": null,
   "metadata": {},
   "outputs": [],
   "source": []
  },
  {
   "cell_type": "markdown",
   "metadata": {},
   "source": [
    "### 3. Sorted len Vector\n",
    "\n",
    "Make a new vector by sorting the `len` variable with `sort`."
   ]
  },
  {
   "cell_type": "code",
   "execution_count": null,
   "metadata": {},
   "outputs": [],
   "source": []
  },
  {
   "cell_type": "markdown",
   "metadata": {},
   "source": [
    "### 4. Scatter Plot of Sorted len\n",
    "\n",
    "Plot the sorted `len` vector."
   ]
  },
  {
   "cell_type": "code",
   "execution_count": null,
   "metadata": {},
   "outputs": [],
   "source": []
  },
  {
   "cell_type": "markdown",
   "metadata": {},
   "source": [
    "### 5. Scatter Plot of len vs. supp\n",
    "\n",
    "What happens to the scatter plot if you use the `supp` variable for `x` to plot the `len` variable as `y` (plot `len` as a function of `supp`)?"
   ]
  },
  {
   "cell_type": "code",
   "execution_count": null,
   "metadata": {},
   "outputs": [],
   "source": []
  },
  {
   "cell_type": "markdown",
   "metadata": {},
   "source": [
    "**Explanation**: What's happening here?\n",
    "\n",
    "**Answer**: ..."
   ]
  },
  {
   "cell_type": "markdown",
   "metadata": {},
   "source": [
    "**Insight**: What do we learn?\n",
    "\n",
    "**Answer**: ..."
   ]
  },
  {
   "cell_type": "markdown",
   "metadata": {},
   "source": [
    "## Submission Notes\n",
    "\n",
    "- Save this notebook as `scatter_plot_practice.ipynb`.\n",
    "- Upload the DataLab link to Canvas."
   ]
  }
 ],
 "metadata": {
  "kernelspec": {
   "display_name": "R",
   "language": "R",
   "name": "ir"
  },
  "language_info": {
   "codemirror_mode": "r",
   "file_extension": ".r",
   "mimetype": "text/x-r-source",
   "name": "R",
   "pygments_lexer": "r",
   "version": "4.2.0"
  }
 },
 "nbformat": 4,
 "nbformat_minor": 5
}