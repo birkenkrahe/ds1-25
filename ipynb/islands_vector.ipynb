{
 "cells": [
  {
   "cell_type": "markdown",
   "metadata": {},
   "source": [
    "# SUBSETTING PRACTICE WITH ISLANDS\n",
    "**Author**: [Your Name] (pledged)\n",
    "**Course**: DSC 105 Intro to Data Science, Lyon College, Fall '24\n",
    "\n",
    "## Readme\n",
    "This exercise is very similar to the practice on the `Nile` dataset. Here, we're using another built-in dataset, `islands`. Instead of `time`, you need to use `names` to analyze the content of `islands`, and instead of a line plot, you will draw a dot plot.\n",
    "\n",
    "## Instructions\n",
    "Find out what `islands` contains and what its structure is. Take a look at `example(islands)` too. Complete the following 10 problems in this notebook. Submit the completed file in Canvas for bonus points.\n",
    "\n",
    "- Add short comments in code cells to explain your output.\n",
    "- Answer questions in the provided text blocks where specified.\n",
    "- Save the notebook as `islands_vector.ipynb`.\n",
    "- Share the DataLab link in Canvas."
   ]
  },
  {
   "cell_type": "markdown",
   "metadata": {},
   "source": [
    "## 1. Number of Elements\n",
    "\n",
    "How many elements does the vector `islands` have?"
   ]
  },
  {
   "cell_type": "code",
   "execution_count": null,
   "metadata": {},
   "outputs": [],
   "source": []
  },
  {
   "cell_type": "markdown",
   "metadata": {},
   "source": [
    "## 2. Retrieve Specific Elements\n",
    "\n",
    "Retrieve the third to fourth, the twelfth to thirty-fifth, and the 48th element of `islands` with one command, and check that you retrieved 28 elements altogether (with another command)."
   ]
  },
  {
   "cell_type": "code",
   "execution_count": null,
   "metadata": {},
   "outputs": [],
   "source": []
  },
  {
   "cell_type": "markdown",
   "metadata": {},
   "source": [
    "## 3. Create Unnamed Vector\n",
    "\n",
    "Create a vector `islands_unnamed` from `islands` that is not named and show its structure. Tip: to remove the `names` of a vector, assign `NULL` to it."
   ]
  },
  {
   "cell_type": "code",
   "execution_count": null,
   "metadata": {},
   "outputs": [],
   "source": []
  },
  {
   "cell_type": "markdown",
   "metadata": {},
   "source": [
    "## 4. Value for Iceland\n",
    "\n",
    "Print the value of `islands` that belongs to the `names(islands)` element `\"Iceland\"`. Which data science question could this answer?"
   ]
  },
  {
   "cell_type": "code",
   "execution_count": null,
   "metadata": {},
   "outputs": [],
   "source": []
  },
  {
   "cell_type": "markdown",
   "metadata": {},
   "source": [
    "**Answer**: ..."
   ]
  },
  {
   "cell_type": "markdown",
   "metadata": {},
   "source": [
    "## 5. Greatest Landmass\n",
    "\n",
    "Which element of `islands` corresponds to the greatest area? (Put differently: what is the greatest landmass on Earth?)"
   ]
  },
  {
   "cell_type": "code",
   "execution_count": null,
   "metadata": {},
   "outputs": [],
   "source": []
  },
  {
   "cell_type": "markdown",
   "metadata": {},
   "source": [
    "## 6. Index of Next-to-Last Element\n",
    "\n",
    "What is the index of the next-to-last element of `islands`? Use `which` to answer this question and save the result as `index`."
   ]
  },
  {
   "cell_type": "code",
   "execution_count": null,
   "metadata": {},
   "outputs": [],
   "source": []
  },
  {
   "cell_type": "markdown",
   "metadata": {},
   "source": [
    "## 7. Verify Next-to-Last Element\n",
    "\n",
    "Check your answer to the last question by finding the value of `islands` that belongs to `index`."
   ]
  },
  {
   "cell_type": "code",
   "execution_count": null,
   "metadata": {},
   "outputs": [],
   "source": []
  },
  {
   "cell_type": "markdown",
   "metadata": {},
   "source": [
    "## 8. Values Larger Than Next-to-Last\n",
    "\n",
    "How many values of `islands` are larger than the next-to-last value of `islands`?"
   ]
  },
  {
   "cell_type": "code",
   "execution_count": null,
   "metadata": {},
   "outputs": [],
   "source": []
  },
  {
   "cell_type": "markdown",
   "metadata": {},
   "source": [
    "## 9. Total Landmass\n",
    "\n",
    "What is the landmass of all areas listed in `islands`? Output: `\"Total landmass: 60131 thousands of square miles.\"`"
   ]
  },
  {
   "cell_type": "code",
   "execution_count": null,
   "metadata": {},
   "outputs": [],
   "source": []
  },
  {
   "cell_type": "markdown",
   "metadata": {},
   "source": [
    "## 10. Dot Plot\n",
    "\n",
    "Make a dot plot of all entries in the dataset `islands` using the `dotchart` function. As its only argument, use the `log10`-transformed, ordered dataset `areas <- log10(sort(islands))`. Add a line for the median of this dataset, `median(areas)`, using `abline(v=median(areas))`.\n",
    "\n",
    "Tip: You can change the appearance of lines with the parameters `col`, `lty`, `lwd`. E.g., `col=\"red\", lty=2, lwd=2` for a red, dashed, thick line."
   ]
  },
  {
   "cell_type": "code",
   "execution_count": null,
   "metadata": {},
   "outputs": [],
   "source": []
  },
  {
   "cell_type": "markdown",
   "metadata": {},
   "source": [
    "## 11. Customized Dot Plot\n",
    "\n",
    "Create a customized dot plot with line type, line width, title, labels, and color."
   ]
  },
  {
   "cell_type": "code",
   "execution_count": null,
   "metadata": {},
   "outputs": [],
   "source": []
  },
  {
   "cell_type": "markdown",
   "metadata": {},
   "source": [
    "## Submission Notes\n",
    "\n",
    "- Save this notebook as `islands_vector.ipynb`.\n",
    "- Replace `[Your Name]` with your name in the author field.\n",
    "- Share the DataLab link in Canvas for bonus points."
   ]
  }
 ],
 "metadata": {
  "kernelspec": {
   "display_name": "R",
   "language": "R",
   "name": "ir"
  },
  "language_info": {
   "codemirror_mode": "r",
   "file_extension": ".r",
   "mimetype": "text/x-r