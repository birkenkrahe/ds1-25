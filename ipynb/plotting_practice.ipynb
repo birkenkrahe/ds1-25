{
 "cells": [
  {
   "cell_type": "markdown",
   "metadata": {},
   "source": [
    "# Plotting Practice (Code Along)\n",
    "**Author**: Marcus Birkenkrahe (pledged)\n",
    "**Course**: Introduction to Data Science (DSC 105), Lyon College, Fall 2025\n",
    "\n",
    "## Instructions\n",
    "This exercise focuses on plotting histograms, line plots, bar plots, and scatter plots using built-in R datasets (`Nile`, `mtcars`, `ToothGrowth`). Complete the tasks below in this notebook.\n",
    "\n",
    "- Add short comments in code cells to explain your output.\n",
    "- Answer questions in the provided text blocks where specified.\n",
    "- Do not use AI.\n",
    "- Save the notebook as `plotting_practice.ipynb`.\n",
    "- Upload the DataLab link to Canvas.\n",
    "\n",
    "For additional help, check out `help(hist)` and `example(hist)` for examples listed in the documentation."
   ]
  },
  {
   "cell_type": "markdown",
   "metadata": {},
   "source": [
    "## Plotting the Histogram"
   ]
  },
  {
   "cell_type": "markdown",
   "metadata": {},
   "source": [
    "### 1. Histogram of Nile\n",
    "\n",
    "Plot the histogram of the `Nile` dataset."
   ]
  },
  {
   "cell_type": "code",
   "execution_count": null,
   "metadata": {},
   "outputs": [],
   "source": []
  },
  {
   "cell_type": "markdown",
   "metadata": {},
   "source": [
    "**Interpretation**: Can you interpret the plot given what you know about the data? For example, what is the meaning of the longest bar in the histogram?\n",
    "\n",
    "**Answer**: ..."
   ]
  },
  {
   "cell_type": "markdown",
   "metadata": {},
   "source": [
    "### 2. Histogram with Breaks\n",
    "\n",
    "Add the argument `breaks=20` to the `hist` function call."
   ]
  },
  {
   "cell_type": "code",
   "execution_count": null,
   "metadata": {},
   "outputs": [],
   "source": []
  },
  {
   "cell_type": "markdown",
   "metadata": {},
   "source": [
    "**Insight**: What's the new insight from this plot?\n",
    "\n",
    "**Answer**: ..."
   ]
  },
  {
   "cell_type": "markdown",
   "metadata": {},
   "source": [
    "### 3. Default Binwidth\n",
    "\n",
    "What is the default binwidth for a histogram?"
   ]
  },
  {
   "cell_type": "markdown",
   "metadata": {},
   "source": [
    "**Answer**: ..."
   ]
  },
  {
   "cell_type": "code",
   "execution_count": null,
   "metadata": {},
   "outputs": [],
   "source": []
  },
  {
   "cell_type": "markdown",
   "metadata": {},
   "source": [
    "### 4. Combine Histograms\n",
    "\n",
    "Do you remember how to put both of these plots (from questions 1 and 2) on one page using the `par` function?"
   ]
  },
  {
   "cell_type": "code",
   "execution_count": null,
   "metadata": {},
   "outputs": [],
   "source": []
  },
  {
   "cell_type": "markdown",
   "metadata": {},
   "source": [
    "## Plotting the Line Plot\n",
    "\n",
    "Since `Nile` is a time series, every data point has a time label. You can easily plot the evolution of the data over time with `plot`. A line plot is useful to visualize two continuous numeric variables."
   ]
  },
  {
   "cell_type": "markdown",
   "metadata": {},
   "source": [
    "### 5. Line Plot of Nile\n",
    "\n",
    "Create a line plot for the `Nile` dataset."
   ]
  },
  {
   "cell_type": "code",
   "execution_count": null,
   "metadata": {},
   "outputs": [],
   "source": []
  },
  {
   "cell_type": "markdown",
   "metadata": {},
   "source": [
    "**Interpretation**: Can you interpret the plot given what you know about the data?\n",
    "\n",
    "**Answer**: ..."
   ]
  },
  {
   "cell_type": "markdown",
   "metadata": {},
   "source": [
    "### 6. Is hist a Generic Function?\n",
    "\n",
    "Is `hist` a generic function?"
   ]
  },
  {
   "cell_type": "code",
   "execution_count": null,
   "metadata": {},
   "outputs": [],
   "source": []
  },
  {
   "cell_type": "markdown",
   "metadata": {},
   "source": [
    "### 7. Histograms and Data Frames\n",
    "\n",
    "What do you notice regarding histograms and data frames?\n",
    "\n",
    "**Answer**: ..."
   ]
  },
  {
   "cell_type": "markdown",
   "metadata": {},
   "source": [
    "### 8. Non-Graphical Data (Structure)\n",
    "\n",
    "Check the structure of the `mtcars` dataset."
   ]
  },
  {
   "cell_type": "code",
   "execution_count": null,
   "metadata": {},
   "outputs": [],
   "source": []
  },
  {
   "cell_type": "markdown",
   "metadata": {},
   "source": [
    "### 9. Histogram of mpg\n",
    "\n",
    "Plot the `mpg` vector from the `mtcars` dataset as a histogram."
   ]
  },
  {
   "cell_type": "code",
   "execution_count": null,
   "metadata": {},
   "outputs": [],
   "source": []
  },
  {
   "cell_type": "markdown",
   "metadata": {},
   "source": [
    "**Insight**: What is the most frequent miles-per-gallon performance?\n",
    "\n",
    "**Answer**: ..."
   ]
  },
  {
   "cell_type": "markdown",
   "metadata": {},
   "source": [
    ### 10. Histogram of cyl\n",
    "\n",
    "Plot the `cyl` vector from the `mtcars` dataset as a histogram."
   ]
  },
  {
   "cell_type": "code",
   "execution_count": null,
   "metadata": {},
   "outputs": [],
   "source": []
  },
  {
   "cell_type": "markdown",
   "metadata": {},
   "source": [
    ### 11. Bar Plot of cyl\n",
    "\n",
    "A better plot type is the bar plot (because `cyl` is a categorical variable). Create a bar plot of the `cyl` vector."
   ]
  },
  {
   "cell_type": "code",
   "execution_count": null,
   "metadata": {},
   "outputs": [],
   "source": []
  },
  {
   "cell_type": "markdown",
   "metadata": {},
   "source": [
    ### 12. Table of cyl\n",
    "\n",
    "Print the `table` of the `cyl` vector to see what `barplot` has to work with."
   ]
  },
  {
   "cell_type": "code",
   "execution_count": null,
   "metadata": {},
   "outputs": [],
   "source": []
  },
  {
   "cell_type": "markdown",
   "metadata": {},
   "source": [
    ### 13. Structure of ToothGrowth\n",
    "\n",
    "Will `hist` work with `factor` vectors? Check out the `ToothGrowth` dataset using `str`."
   ]
  },
  {
   "cell_type": "code",
   "execution_count": null,
   "metadata": {},
   "outputs": [],
   "source": []
  },
  {
   "cell_type": "markdown",
   "metadata": {},
   "source": [
    "**Explanation**: You get this result because...\n",
    "\n",
    "**Answer**: ..."
   ]
  },
  {
   "cell_type": "markdown",
   "metadata": {},
   "source": [
    ### 14. Histogram of supp (Expected Result)\n",
    "\n",
    "Try to create a histogram of the `supp` factor vector from `ToothGrowth`. What result do you expect?\n",
    "\n",
    "**Expected Result**: ..."
   ]
  },
  {
   "cell_type": "markdown",
   "metadata": {},
   "source": [
    ### 15. Convert and Plot supp\n",
    "\n",
    "Create a histogram of the `supp` factor vector by following these steps:\n",
    "1. Save the `supp` factor in an object `tgs`.\n",
    "2. Turn the factor into numbers.\n",
    "3. Plot the values as a (fancy) histogram."
   ]
  },
  {
   "cell_type": "code",
   "execution_count": null,
   "metadata": {},
   "outputs": [],
   "source": [
    "# Step 1: Save supp factor\n"
   ]
  },
  {
   "cell_type": "code",
   "execution_count": null,
   "metadata": {},
   "outputs": [],
   "source": [
    "# Step 2: Convert to numbers\n"
   ]
  },
  {
   "cell_type": "code",
   "execution_count": null,
   "metadata": {},
   "outputs": [],
   "source": [
    "# Step 3: Plot histogram\n"
   ]
  },
  {
   "cell_type": "markdown",
   "metadata": {},
   "source": [
    ### 16. Bar Plot of supp\n",
    "\n",
    "Again, a bar plot is more meaningful (because `supp` is categorical). Create a bar plot of the `supp` vector."
   ]
  },
  {
   "cell_type": "code",
   "execution_count": null,
   "metadata": {},
   "outputs": [],
   "source": []
  },
  {
   "cell_type": "markdown",
   "metadata": {},
   "source": [
    "## Plotting the Scatter Plot"
   ]
  },
  {
   "cell_type": "markdown",
   "metadata": {},
   "source": [
    ### 17. Structure of ToothGrowth\n",
    "\n",
    "Check out the structure of `ToothGrowth` again."
   ]
  },
  {
   "cell_type": "code",
   "execution_count": null,
   "metadata": {},
   "outputs": [],
   "source": []
  },
  {
   "cell_type": "markdown",
   "metadata": {},
   "source": [
    ### 18. Scatter Plot of len\n",
    "\n",
    "Make a plot of the `len` variable (tooth length of the guinea pigs)."
   ]
  },
  {
   "cell_type": "code",
   "execution_count": null,
   "metadata": {},
   "outputs": [],
   "source": []
  },
  {
   "cell_type": "markdown",
   "metadata": {},
   "source": [
    ### 19. Sorted len Vector\n",
    "\n",
    "Make a new vector by sorting the `len` variable with `sort`."
   ]
  },
  {
   "cell_type": "code",
   "execution_count": null,
   "metadata": {},
   "outputs": [],
   "source": []
  },
  {
   "cell_type": "markdown",
   "metadata": {},
   "source": [
    ### 20. Scatter Plot of Sorted len\n",
    "\n",
    "Plot the sorted `len` vector."
   ]
  },
  {
   "cell_type": "code",
   "execution_count": null,
   "metadata": {},
   "outputs": [],
   "source": []
  },
  {
   "cell_type": "markdown",
   "metadata": {},
   "source": [
    ### 21. Scatter Plot of len vs. supp\n",
    "\n",
    "What happens to the scatter plot if you use the `supp` variable for `x` to plot the `len` variable as `y` (plot `len` as a function of `supp`)?"
   ]
  },
  {
   "cell_type": "code",
   "execution_count": null,
   "metadata": {},
   "outputs": [],
   "source": []
  },
  {
   "cell_type": "markdown",
   "metadata": {},
   "source": [
    "**Explanation**: What's happening here?\n",
    "\n",
    "**Answer**: ..."
   ]
  },
  {
   "cell_type": "markdown",
   "metadata": {},
   "source": [
    "**Insight**: What do we learn?\n",
    "\n",
    "**Answer**: ..."
   ]
  },
  {
   "cell_type": "markdown",
   "metadata": {},
   "source": [
    "## Submission Notes\n",
    "\n",
    "- Save this notebook as `plotting_practice.ipynb`.\n",
    "- Ensure your name is in the author field.\n",
    "- Upload the DataLab link to Canvas."
   ]
  }
 ],
 "metadata": {
  "kernelspec": {
   "display_name": "R",
   "language": "R",
   "name": "ir"
  },
  "language_info": {
   "codemirror_mode": "r",
   "file_extension": ".r",
   "mimetype": "text/x-r-source",
   "name": "R",
   "pygments_lexer": "r",
   "version": "4.2.0"
  }
 },
 "nbformat": 4,
 "nbformat_minor": 5
}