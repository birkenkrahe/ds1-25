{
 "cells": [
  {
   "cell_type": "markdown",
   "metadata": {},
   "source": [
    "# Plotting Practice: Line Plot Section\n",
    "**Course**: Introduction to Data Science (DSC 105), Lyon College, Fall 2025\n",
    "\n",
    "## Instructions\n",
    "This code-along exercise focuses on plotting line plots, histograms, and bar plots using built-in R datasets (`Nile`, `mtcars`, `ToothGrowth`). Complete the tasks below in this notebook.\n",
    "\n",
    "- Answer questions in the provided text blocks where specified.\n",
    "- Do not use AI.\n",
    "- Save the notebook as `line_plot_practice.ipynb`.\n",
    "- Upload the DataLab link to Canvas.\n",
    "\n",
    "For additional help, check out `help(hist)` and `example(hist)` for examples listed in the documentation."
   ]
  },
  {
   "cell_type": "markdown",
   "metadata": {},
   "source": [
    "## Plotting the Line Plot\n",
    "\n",
    "Since `Nile` is a time series, every data point has a time label. You can easily plot the evolution of the data over time with `plot`. A line plot is useful to visualize two continuous numeric variables."
   ]
  },
  {
   "cell_type": "markdown",
   "metadata": {},
   "source": [
    "### 1. Line Plot of Nile\n",
    "\n",
    "Create a line plot for the `Nile` dataset."
   ]
  },
  {
   "cell_type": "code",
   "execution_count": null,
   "metadata": {},
   "outputs": [],
   "source": []
  },
  {
   "cell_type": "markdown",
   "metadata": {},
   "source": [
    "**Interpretation**: Can you interpret the plot given what you know about the data?\n",
    "\n",
    "**Answer**: ..."
   ]
  },
  {
   "cell_type": "markdown",
   "metadata": {},
   "source": [
    "### 2. Is hist a Generic Function?\n",
    "\n",
    "Is `hist` a generic function?"
   ]
  },
  {
   "cell_type": "code",
   "execution_count": null,
   "metadata": {},
   "outputs": [],
   "source": []
  },
  {
   "cell_type": "markdown",
   "metadata": {},
   "source": [
    "### 3. Histograms and Data Frames\n",
    "\n",
    "What do you notice regarding histograms and data frames?\n",
    "\n",
    "**Answer**: ..."
   ]
  },
  {
   "cell_type": "markdown",
   "metadata": {},
   "source": [
    "### 4. Non-Graphical Data (Structure)\n",
    "\n",
    "Check the structure of the `mtcars` dataset."
   ]
  },
  {
   "cell_type": "code",
   "execution_count": null,
   "metadata": {},
   "outputs": [],
   "source": []
  },
  {
   "cell_type": "markdown",
   "metadata": {},
   "source": [
    "### 5. Histogram of mpg\n",
    "\n",
    "Plot the `mpg` vector from the `mtcars` dataset as a histogram."
   ]
  },
  {
   "cell_type": "code",
   "execution_count": null,
   "metadata": {},
   "outputs": [],
   "source": []
  },
  {
   "cell_type": "markdown",
   "metadata": {},
   "source": [
    "**Insight**: What is the most frequent miles-per-gallon performance?\n",
    "\n",
    "**Answer**: ..."
   ]
  },
  {
   "cell_type": "markdown",
   "metadata": {},
   "source": [
    "### 6. Histogram of cyl\n",
    "\n",
    "Plot the `cyl` vector from the `mtcars` dataset as a histogram."
   ]
  },
  {
   "cell_type": "code",
   "execution_count": null,
   "metadata": {},
   "outputs": [],
   "source": []
  },
  {
   "cell_type": "markdown",
   "metadata": {},
   "source": [
    "### 7. Bar Plot of cyl\n",
    "\n",
    "A better plot type is the bar plot (because `cyl` is a categorical variable). Create a bar plot of the `cyl` vector."
   ]
  },
  {
   "cell_type": "code",
   "execution_count": null,
   "metadata": {},
   "outputs": [],
   "source": []
  },
  {
   "cell_type": "markdown",
   "metadata": {},
   "source": [
    "### 8. Table of cyl\n",
    "\n",
    "Print the `table` of the `cyl` vector to see what `barplot` has to work with."
   ]
  },
  {
   "cell_type": "code",
   "execution_count": null,
   "metadata": {},
   "outputs": [],
   "source": []
  },
  {
   "cell_type": "markdown",
   "metadata": {},
   "source": [
    "### 9. Structure of ToothGrowth\n",
    "\n",
    "Will `hist` work with `factor` vectors? Check out the `ToothGrowth` dataset using `str`."
   ]
  },
  {
   "cell_type": "code",
   "execution_count": null,
   "metadata": {},
   "outputs": [],
   "source": []
  },
  {
   "cell_type": "markdown",
   "metadata": {},
   "source": [
    "**Explanation**: You get this result because...\n",
    "\n",
    "**Answer**: ..."
   ]
  },
  {
   "cell_type": "markdown",
   "metadata": {},
   "source": [
    "### 10. Histogram of supp (Expected Result)\n",
    "\n",
    "Try to create a histogram of the `supp` factor vector from `ToothGrowth`. What result do you expect?\n",
    "\n",
    "**Expected Result**: ..."
   ]
  },
  {
   "cell_type": "markdown",
   "metadata": {},
   "source": [
    "### 11. Convert and Plot supp\n",
    "\n",
    "Create a histogram of the `supp` factor vector by following these steps:\n",
    "1. Save the `supp` factor in an object `tgs`.\n",
    "2. Turn the factor into numbers.\n",
    "3. Plot the values as a (fancy) histogram."
   ]
  },
  {
   "cell_type": "code",
   "execution_count": null,
   "metadata": {},
   "outputs": [],
   "source": [
    "# Step 1: Save supp factor\n"
   ]
  },
  {
   "cell_type": "code",
   "execution_count": null,
   "metadata": {},
   "outputs": [],
   "source": [
    "# Step 2: Convert to numbers\n"
   ]
  },
  {
   "cell_type": "code",
   "execution_count": null,
   "metadata": {},
   "outputs": [],
   "source": [
    "# Step 3: Plot histogram\n"
   ]
  },
  {
   "cell_type": "markdown",
   "metadata": {},
   "source": [
    "### 12. Bar Plot of supp\n",
    "\n",
    "Again, a bar plot is more meaningful (because `supp` is categorical). Create a bar plot of the `supp` vector."
   ]
  },
  {
   "cell_type": "code",
   "execution_count": null,
   "metadata": {},
   "outputs": [],
   "source": []
  },
  {
   "cell_type": "markdown",
   "metadata": {},
   "source": [
    "## Submission Notes\n",
    "\n",
    "- Save this notebook as `line_plot_practice.ipynb`.\n",
    "- Upload the DataLab link to Canvas."
   ]
  }
 ],
 "metadata": {
  "kernelspec": {
   "display_name": "R",
   "language": "R",
   "name": "ir"
  },
  "language_info": {
   "codemirror_mode": "r",
   "file_extension": ".r",
   "mimetype": "text/x-r-source",
   "name": "R",
   "pygments_lexer": "r",
   "version": "4.2.0"
  }
 },
 "nbformat": 4,
 "nbformat_minor": 5
}