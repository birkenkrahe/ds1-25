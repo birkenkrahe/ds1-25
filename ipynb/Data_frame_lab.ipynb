{
 "cells": [
  {
   "cell_type": "markdown",
   "metadata": {},
   "source": [
    "# Fantasy Creatures DataFrame Analysis\n",
    "**Author**: [Student Name]\n",
    "\n",
    "I pledge that this work is my own, completed in accordance with course guidelines.\n",
    "\n",
    "## Instructions\n",
    "For this exercise, you need the knowledge from the DataCamp lesson on `data.frame` objects and the plotting practice from class. For the last question, you need to look up a help page.\n",
    "\n",
    "**Goal**: Demonstrate your understanding of R data frames by creating, inspecting, subsetting, sorting, and visualizing data about mythical creatures.\n",
    "\n",
    "**Tasks**:\n",
    "- Complete all tasks in this DataLab R notebook.\n",
    "- Add short comments in code cells to explain your output.\n",
    "- Answer questions in text blocks where specified.\n",
    "- Save the notebook as `Fantasy_Creatures_DataFrame.ipynb`.\n",
    "- Share the DataLab link in Canvas.\n",
    "\n",
    "## Data\n",
    "Use the following table of eight fantasy creatures, also available as a CSV file at: [tinyurl.com/fantasy-creatures-csv](https://tinyurl.com/fantasy-creatures-csv)\n",
    "\n",
    "| creature | type     | height_m | element | wings | danger_level |\n",
    "|----------|----------|----------|---------|-------|--------------|\n",
    "| Dragon   | Beast    | 6.0      | Fire    | TRUE  | 10           |\n",
    "| Unicorn  | Spirit   | 1.8      | Magic   | FALSE | 3            |\n",
    "| Phoenix  | Spirit   | 1.2      | Fire    | TRUE  | 7            |\n",
    "| Troll    | Humanoid | 2.5      | Earth   | FALSE | 6            |\n",
    "| Mermaid  | Aquatic  | 1.6      | Water   | FALSE | 4            |\n",
    "| Centaur  | Humanoid | 2.2      | Earth   | FALSE | 5            |\n",
    "| Griffin  | Beast    | 1.7      | Air     | TRUE  | 8            |\n",
    "| Giant    | Humanoid | 4.5      | Earth   | FALSE | 9            |\n"
   ]
  },
  {
   "cell_type": "markdown",
   "metadata": {},
   "source": [
    "## 1. Create Vectors\n",
    "\n",
    "Create six vectors of equal length describing the eight fantasy creatures shown in the table above."
   ]
  },
  {
   "cell_type": "code",
   "execution_count": null,
   "metadata": {},
   "outputs": [],
   "source": []
  },
  {
   "cell_type": "markdown",
   "metadata": {},
   "source": [
    "## 2. Combine into a Data Frame\n",
    "\n",
    "Combine the vectors into a data frame called `creatures_df` and print the data frame."
   ]
  },
  {
   "cell_type": "code",
   "execution_count": null,
   "metadata": {},
   "outputs": [],
   "source": []
  },
  {
   "cell_type": "markdown",
   "metadata": {},
   "source": [
    "## 3. Inspect the Data Frame\n",
    "\n",
    "Perform the following inspections on the data frame."
   ]
  },
  {
   "cell_type": "markdown",
   "metadata": {},
   "source": [
    "### 3.1 Display First Four Rows\n",
    "\n",
    "Use `head` to display only the first four rows of the data frame."
   ]
  },
  {
   "cell_type": "code",
   "execution_count": null,
   "metadata": {},
   "outputs": [],
   "source": []
  },
  {
   "cell_type": "markdown",
   "metadata": {},
   "source": [
    "### 3.2 Display Last Four Rows\n",
    "\n",
    "Use `tail` to display the last four rows of the data frame."
   ]
  },
  {
   "cell_type": "code",
   "execution_count": null,
   "metadata": {},
   "outputs": [],
   "source": []
  },
  {
   "cell_type": "markdown",
   "metadata": {},
   "source": [
    "### 3.3 Show Structure\n",
    "\n",
    "Show the structure of the data frame."
   ]
  },
  {
   "cell_type": "code",
   "execution_count": null,
   "metadata": {},
   "outputs": [],
   "source": []
  },
  {
   "cell_type": "markdown",
   "metadata": {},
   "source": [
    "### 3.4 Summary Statistics\n",
    "\n",
    "Print summary statistics of the data frame."
   ]
  },
  {
   "cell_type": "code",
   "execution_count": null,
   "metadata": {},
   "outputs": [],
   "source": []
  },
  {
   "cell_type": "markdown",
   "metadata": {},
   "source": [
    "### 3.5 Questions\n",
    "\n",
    "Answer the following questions:\n",
    "1. What is the average danger level?\n",
    "2. What data type is `wings`?\n",
    "3. Is the creature `type` a categorical variable?"
   ]
  },
  {
   "cell_type": "markdown",
   "metadata": {},
   "source": [
    "**Answers**:\n",
    "1. \n",
    "2. \n",
    "3. "
   ]
  },
  {
   "cell_type": "markdown",
   "metadata": {},
   "source": [
    "## 4. Select and Print\n",
    "\n",
    "Perform the following selections and print the results."
   ]
  },
  {
   "cell_type": "markdown",
   "metadata": {},
   "source": [
    "### 4.1 Element Type of \"Phoenix\"\n",
    "\n",
    "Select and print the element type of the creature \"Phoenix\"."
   ]
  },
  {
   "cell_type": "code",
   "execution_count": null,
   "metadata": {},
   "outputs": [],
   "source": []
  },
  {
   "cell_type": "markdown",
   "metadata": {},
   "source": [
    "### 4.2 Full Record for the 5th Creature\n",
    "\n",
    "Select and print the full record for the 5th creature."
   ]
  },
  {
   "cell_type": "code",
   "execution_count": null,
   "metadata": {},
   "outputs": [],
   "source": []
  },
  {
   "cell_type": "markdown",
   "metadata": {},
   "source": [
    "### 4.3 `height_m` Column by Three Methods\n",
    "\n",
    "Select and print the `height_m` column using three methods: by index, by name, and with the accessor operator `$`."
   ]
  },
  {
   "cell_type": "markdown",
   "metadata": {},
   "source": [
    "#### By Index"
   ]
  },
  {
   "cell_type": "code",
   "execution_count": null,
   "metadata": {},
   "outputs": [],
   "source": []
  },
  {
   "cell_type": "markdown",
   "metadata": {},
   "source": [
    "#### By Name"
   ]
  },
  {
   "cell_type": "code",
   "execution_count": null,
   "metadata": {},
   "outputs": [],
   "source": []
  },
  {
   "cell_type": "markdown",
   "metadata": {},
   "source": [
    "#### Using Accessor Operator `$`"
   ]
  },
  {
   "cell_type": "code",
   "execution_count": null,
   "metadata": {},
   "outputs": [],
   "source": []
  },
  {
   "cell_type": "markdown",
   "metadata": {},
   "source": [
    "## 5. Subset for One Feature\n",
    "\n",
    "Create a new data frame `fliers_df` containing only creatures that have wings using the `subset` function."
   ]
  },
  {
   "cell_type": "code",
   "execution_count": null,
   "metadata": {},
   "outputs": [],
   "source": []
  },
  {
   "cell_type": "markdown",
   "metadata": {},
   "source": [
    "## 6. Filter by Condition\n",
    "\n",
    "Create a new data frame `dangerous_fliers` that contains only creatures with wings that also have a danger level above 6."
   ]
  },
  {
   "cell_type": "code",
   "execution_count": null,
   "metadata": {},
   "outputs": [],
   "source": []
  },
  {
   "cell_type": "markdown",
   "metadata": {},
   "source": [
    "## 7. Sort\n",
    "\n",
    "Sort `creatures_df` by `height_m` from shortest to tallest and store the result in `sorted_creatures`."
   ]
  },
  {
   "cell_type": "code",
   "execution_count": null,
   "metadata": {},
   "outputs": [],
   "source": []
  },
  {
   "cell_type": "markdown",
   "metadata": {},
   "source": [
    "## 8. Histogram\n",
    "\n",
    "Make a histogram of creature heights. Add a title and axis labels."
   ]
  },
  {
   "cell_type": "code",
   "execution_count": null,
   "metadata": {},
   "outputs": [],
   "source": []
  },
  {
   "cell_type": "markdown",
   "metadata": {},
   "source": [
    "### 8.1 Questions\n",
    "\n",
    "Answer the following questions:\n",
    "1. What kind of variable is `height_m`?\n",
    "2. What kind of histogram would you get if you plotted the `creature` values instead?\n",
    "3. What is the default binwidth?"
   ]
  },
  {
   "cell_type": "markdown",
   "metadata": {},
   "source": [
    "**Answers**:\n",
    "1. \n",
    "2. \n",
    "3. "
   ]
  },
  {
   "cell_type": "markdown",
   "metadata": {},
   "source": [
    "## 9. Scatter/Line Plot\n",
    "\n",
    "Plot `height_m` (y-axis) against `danger_level` (x-axis) using `plot()`. Add a title, axis labels, and connect points with lines (`type = \"b\"`)."
   ]
  },
  {
   "cell_type": "code",
   "execution_count": null,
   "metadata": {},
   "outputs": [],
   "source": []
  },
  {
   "cell_type": "markdown",
   "metadata": {},
   "source": [
    "### 9.1 Questions\n",
    "\n",
    "Answer the following questions:\n",
    "1. Would it be better to connect the points with a line (`type=\"l\"`)? Why or why not?\n",
    "2. Should the measuring units be added to the \"Danger Level\" label? Why or why not?\n",
    "3. Could you just plot with x = danger level? Why or why not?"
   ]
  },
  {
   "cell_type": "markdown",
   "metadata": {},
   "source": [
    "**Answers**:\n",
    "1. \n",
    "2. \n",
    "3. "
   ]
  },
  {
   "cell_type": "markdown",
   "metadata": {},
   "source": [
    "## 10. Combined Filtering and Labeling\n",
    "\n",
    "Create a new data frame `tall_dangerous` containing only creatures taller than 2m and with a danger level above 6. Then make a scatter plot of their height vs. danger level and label the points with their names using the `text` function. Refer to the help page (`?text`) to understand the `pos` parameter."
   ]
  },
  {
   "cell_type": "code",
   "execution_count": null,
   "metadata": {},
   "outputs": [],
   "source": []
  },
  {
   "cell_type": "markdown",
   "metadata": {},
   "source": [
    "## Submission Notes\n",
    "\n",
    "- Save this notebook as `Fantasy_Creatures_DataFrame.ipynb`.\n",
    "- Replace `[Student Name]` with your name in the author field.\n",
    "- Share the DataLab link in Canvas."
   ]
  }
 ],
 "metadata": {
  "kernelspec": {
   "display_name": "R",
   "language": "R",
   "name": "ir"
  },
  "language_info": {
   "codemirror_mode": "r",
   "file_extension": ".r",
   "mimetype": "text/x-r-source",
   "name": "R",
   "pygments_lexer": "r",
   "version": "4.0.3"
  }
 },
 "nbformat": 4,
 "nbformat_minor": 4
}