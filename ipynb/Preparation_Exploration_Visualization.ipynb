{
  "nbformat": 4,
  "nbformat_minor": 5,
  "metadata": {
    "colab": {
      "name": "Preparation_Exploration_Visualization.ipynb"
    },
    "kernelspec": {
      "name": "ir",
      "display_name": "R",
      "language": "R"
    },
    "language_info": {
      "name": "R"
    }
  },
  "cells": [
    {
      "cell_type": "markdown",
      "metadata": {},
      "source": [
        "# Review: Preparation, Exploration, Visualization\n",
        "\n",
        "*Created:* 2025-09-12"
      ]
    },
    {
      "cell_type": "markdown",
      "metadata": {},
      "source": [
        "**Instructions**\n",
        "- Open [DataCamp Datalab](https://datacamp.com/datalab) and log into the \"Lyon College Fall 2025\" workspace.\n",
        "- This notebook mirrors the in-class review: preparation, exploration, and visualization in R.\n",
        "- Run cells top-to-bottom. Colab: *Runtime → Change runtime type → R*."
      ]
    },
    {
      "cell_type": "markdown",
      "metadata": {},
      "source": [
        "## 1) What needs to be done in this dataset?"
      ]
    },
    {
      "cell_type": "markdown",
      "metadata": {},
      "source": [
        "Example raw data (for illustration):\n",
        "\n",
        "```\n",
        "Name   Age  Size Country\n",
        "1 Sara  27  1.77 Belgium\n",
        "2 Lis   30  5.58 USA\n",
        "3 Hadrien NA 1.80 FR\n",
        "4 Lis   30  5.58 USA\n",
        "```"
      ]
    },
    {
      "cell_type": "code",
      "metadata": {},
      "execution_count": null,
      "outputs": [],
      "source": [
        "# Get the data (from the web)\n",
        "df <- read.csv(\"https://tinyurl.com/cleaning-csv\")\n",
        "str(df)\n",
        "df"
      ]
    },
    {
      "cell_type": "markdown",
      "metadata": {},
      "source": [
        "**Clean up country code and size.**"
      ]
    },
    {
      "cell_type": "code",
      "metadata": {},
      "execution_count": null,
      "outputs": [],
      "source": [
        "# Change first country to two-letter code (Belgium -> BE)\n",
        "df$Country[1] <- \"BE\"\n",
        "\n",
        "# Change height values in inches (5.58) to meters (1.70)\n",
        "df$Size[df$Size == 5.58] <- 1.70\n",
        "\n",
        "str(df)\n",
        "df"
      ]
    },
    {
      "cell_type": "markdown",
      "metadata": {},
      "source": [
        "## 2) What is the purpose of removing duplicates in a dataset?"
      ]
    },
    {
      "cell_type": "markdown",
      "metadata": {},
      "source": [
        "> To ensure that each observation (row) is unique."
      ]
    },
    {
      "cell_type": "code",
      "metadata": {},
      "execution_count": null,
      "outputs": [],
      "source": [
        "# Show current data (with a duplicate row for 'Lis')\n",
        "df\n",
        "\n",
        "# Remove the duplicate row (row 4 in this small example)\n",
        "df <- df[-4, ]\n",
        "df"
      ]
    },
    {
      "cell_type": "markdown",
      "metadata": {},
      "source": [
        "## 3) What are methods to handle missing values?"
      ]
    },
    {
      "cell_type": "markdown",
      "metadata": {},
      "source": [
        "> *Impute* (replace intelligently, e.g., by an average), drop, or keep."
      ]
    },
    {
      "cell_type": "markdown",
      "metadata": {},
      "source": [
        "**Replace `NA` by column average (`mean`).**"
      ]
    },
    {
      "cell_type": "code",
      "metadata": {},
      "execution_count": null,
      "outputs": [],
      "source": [
        "df\n",
        "# Extract the third element of Age (was NA originally)\n",
        "df$Age[3]\n",
        "\n",
        "# Impute mean of the non-missing Age values\n",
        "df$Age[3] <- as.integer(mean(df$Age, na.rm = TRUE))\n",
        "df"
      ]
    },
    {
      "cell_type": "markdown",
      "metadata": {},
      "source": [
        "## 4) What is the main goal of EDA?"
      ]
    },
    {
      "cell_type": "markdown",
      "metadata": {},
      "source": [
        "> The main goal of Exploratory Data Analysis (EDA) is to explore the data, \n",
        "formulate hypotheses, and assess characteristics (correlation, trends, patterns). \n",
        "It happens **after** data preparation."
      ]
    },
    {
      "cell_type": "markdown",
      "metadata": {},
      "source": [
        "**Create a statistical summary for the data frame.**"
      ]
    },
    {
      "cell_type": "code",
      "metadata": {},
      "execution_count": null,
      "outputs": [],
      "source": [
        "summary(df)"
      ]
    },
    {
      "cell_type": "markdown",
      "metadata": {},
      "source": [
        "## 5) What does *Anscombe's quartet* illustrate in the context of EDA?"
      ]
    },
    {
      "cell_type": "markdown",
      "metadata": {},
      "source": [
        "> The Anscombe quartet shows the importance of visualizing data even if the statistical properties are very similar."
      ]
    },
    {
      "cell_type": "markdown",
      "metadata": {},
      "source": [
        "**Summarize parts of the built-in `anscombe` data set.**"
      ]
    },
    {
      "cell_type": "code",
      "metadata": {},
      "execution_count": null,
      "outputs": [],
      "source": [
        "summary(anscombe[c(\"x1\",\"x2\",\"y1\",\"y2\")])"
      ]
    },
    {
      "cell_type": "markdown",
      "metadata": {},
      "source": [
        "**Visualize two of the `anscombe` distributions.**"
      ]
    },
    {
      "cell_type": "code",
      "metadata": {},
      "execution_count": null,
      "outputs": [],
      "source": [
        "par(mfrow=c(1,2), pty='s')\n",
        "plot(anscombe$x1, anscombe$y1, col=\"red\",  pch=19, main=\"Set 1: linear-ish\")\n",
        "plot(anscombe$x2, anscombe$y2, col=\"blue\", pch=9,  main=\"Set 2: non-linear\")"
      ]
    },
    {
      "cell_type": "markdown",
      "metadata": {},
      "source": [
        "## 6) What does 'Knowing your data' mean? Which R functions deliver this?"
      ]
    },
    {
      "cell_type": "markdown",
      "metadata": {},
      "source": [
        "1. Preview data values (`head`)\n",
        "\n",
        "2. View structure (`str`)\n",
        "\n",
        "3. Descriptive stats (`summary`)\n",
        "\n",
        "4. Visualize (`plot`)\n",
        "\n",
        "5. Look for correlations (`cor`)\n",
        "\n",
        "6. Look for outliers (`boxplot`)"
      ]
    },
    {
      "cell_type": "markdown",
      "metadata": {},
      "source": [
        "## 7) Which picture or photo do you know that's *worth a thousand words*?"
      ]
    },
    {
      "cell_type": "markdown",
      "metadata": {},
      "source": [
        "*(Local file references won't display in Colab unless uploaded. External links below are provided instead.)*\n",
        "\n",
        "- [Battle of Iwo Jima (1945)](https://www.witf.io/wp-content/uploads/2020/02/iwo-jima-rosenthal-520748-1-1920x1080.jpg)\n",
        "- [Saigon Execution (1968)](https://www.gannett-cdn.com/-mm-/f40f3606fa7f520417c0c9e02d7aa7a371d004ba/r=x513&c=680x510/local/-/media/USATODAY/USATODAY/2013/04/28/war-icons-003-4_3.jpg)\n",
        "- [Trump assassination attempt (2024)](https://www.njspotlightnews.org/wp-content/uploads/sites/123/2024/07/Donald-Trump-assassination-attempt-July-13-2024.jpg)"
      ]
    },
    {
      "cell_type": "markdown",
      "metadata": {},
      "source": [
        "## 8) What are dashboards in data science, and what are they good for?"
      ]
    },
    {
      "cell_type": "markdown",
      "metadata": {},
      "source": [
        "- Dashboards group relevant information in one place\n",
        "\n",
        "- Real-time information helps viewers to keep track\n",
        "\n",
        "- Dashboards can be customized to different data needs\n",
        "\n",
        "- Dashboards can easily be overwhelming (design issues)\n",
        "\n",
        "- Interactive dashboards can help extract features"
      ]
    },
    {
      "cell_type": "markdown",
      "metadata": {},
      "source": [
        "## 9) What are dashboards definitely not good for?"
      ]
    },
    {
      "cell_type": "markdown",
      "metadata": {},
      "source": [
        "- Data preparation, cleaning and transformation\n",
        "\n",
        "- Exploratory Data Analysis (because they are fixed)"
      ]
    },
    {
      "cell_type": "markdown",
      "metadata": {},
      "source": [
        "## 10) What is *labeling* in data visualizations, and why is it important?"
      ]
    },
    {
      "cell_type": "markdown",
      "metadata": {},
      "source": [
        "> Labeling helps viewers understand what each axis, title, and legend represents. Units and data sources are also important."
      ]
    },
    {
      "cell_type": "markdown",
      "metadata": {},
      "source": [
        "**Code example (labeled vs. unlabeled):**"
      ]
    },
    {
      "cell_type": "code",
      "metadata": {},
      "execution_count": null,
      "outputs": [],
      "source": [
        "par(mfrow=c(1,2), pty='s')\n",
        "plot(mtcars$wt, mtcars$mpg) # unlabeled\n",
        "plot(mtcars$wt, mtcars$mpg,\n",
        "     main=\"32 cars from `mtcars`\",\n",
        "     xlab=\"Weight [tons]\",\n",
        "     ylab=\"Miles-per-gallon\") # labeled"
      ]
    }
  ]
}