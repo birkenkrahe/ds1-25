{
 "cells": [
  {
   "cell_type": "markdown",
   "metadata": {},
   "source": [
    "# Plotting Practice: Histogram Section\n",
    "**Course**: Introduction to Data Science (DSC 105), Lyon College, Fall 2025\n",
    "\n",
    "## Instructions\n",
    "This code-along exercise focuses on plotting histograms using the built-in R dataset `Nile`. Complete the tasks below in this notebook.\n",
    "\n",
    "- Add short comments in code cells to explain your output.\n",
    "- Answer questions in the provided text blocks where specified.\n",
    "- Do not use AI.\n",
    "- Save the notebook as `histogram_practice.ipynb`.\n",
    "- Upload the DataLab link to Canvas.\n",
    "\n",
    "For additional help, check out `help(hist)` and `example(hist)` for examples listed in the documentation."
   ]
  },
  {
   "cell_type": "markdown",
   "metadata": {},
   "source": [
    "## Plotting the Histogram"
   ]
  },
  {
   "cell_type": "markdown",
   "metadata": {},
   "source": [
    "### 1. Histogram of Nile\n",
    "\n",
    "Plot the histogram of the `Nile` dataset."
   ]
  },
  {
   "cell_type": "code",
   "execution_count": null,
   "metadata": {},
   "outputs": [],
   "source": []
  },
  {
   "cell_type": "markdown",
   "metadata": {},
   "source": [
    "**Interpretation**: Can you interpret the plot given what you know about the data? For example, what is the meaning of the longest bar in the histogram?\n",
    "\n",
    "**Answer**: ..."
   ]
  },
  {
   "cell_type": "markdown",
   "metadata": {},
   "source": [
    "### 2. Histogram with Breaks\n",
    "\n",
    "Add the argument `breaks=20` to the `hist` function call."
   ]
  },
  {
   "cell_type": "code",
   "execution_count": null,
   "metadata": {},
   "outputs": [],
   "source": []
  },
  {
   "cell_type": "markdown",
   "metadata": {},
   "source": [
    "**Insight**: What's the new insight from this plot?\n",
    "\n",
    "**Answer**: ..."
   ]
  },
  {
   "cell_type": "markdown",
   "metadata": {},
   "source": [
    "### 3. Default Binwidth\n",
    "\n",
    "What is the default binwidth for a histogram?"
   ]
  },
  {
   "cell_type": "markdown",
   "metadata": {},
   "source": [
    "**Answer**: ..."
   ]
  },
  {
   "cell_type": "code",
   "execution_count": null,
   "metadata": {},
   "outputs": [],
   "source": []
  },
  {
   "cell_type": "markdown",
   "metadata": {},
   "source": [
    "### 4. Combine Histograms\n",
    "\n",
    "Do you remember how to put both of these plots (from questions 1 and 2) on one page using the `par` function?"
   ]
  },
  {
   "cell_type": "code",
   "execution_count": null,
   "metadata": {},
   "outputs": [],
   "source": []
  },
  {
   "cell_type": "markdown",
   "metadata": {},
   "source": [
    "## Submission Notes\n",
    "\n",
    "- Save this notebook as `histogram_practice.ipynb`.\n",
    "- Upload the DataLab link to Canvas."
   ]
  }
 ],
 "metadata": {
  "kernelspec": {
   "display_name": "R",
   "language": "R",
   "name": "ir"
  },
  "language_info": {
   "codemirror_mode": "r",
   "file_extension": ".r",
   "mimetype": "text/x-r-source",
   "name": "R",
   "pygments_lexer": "r",
   "version": "4.2.0"
  }
 },
 "nbformat": 4,
 "nbformat_minor": 5
}