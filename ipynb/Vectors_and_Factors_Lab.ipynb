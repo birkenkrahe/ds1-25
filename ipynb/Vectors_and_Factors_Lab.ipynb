{
  "nbformat": 4,
  "nbformat_minor": 5,
  "metadata": {
    "kernelspec": {
      "name": "ir",
      "display_name": "R",
      "language": "R"
    },
    "language_info": {
      "name": "R"
    },
    "authors": [
      {
        "name": "Marcus Birkenkrahe (pledged)"
      }
    ],
    "title": "Vectors and Factors Lab",
    "description": "DSC 105, Introduction to data science, Lyon College, Fall 2025"
  },
  "cells": [
    {
      "cell_type": "markdown",
      "metadata": {},
      "source": [
        "# Vectors and Factors Lab\n",
        "**Marcus Birkenkrahe (pledged)**  \n",
        "*DSC 105, Introduction to data science, Lyon College, Fall 2024*\n",
        "\n",
        "_Converted from Org-mode to a Jupyter notebook (R kernel)._"
      ]
    },
    {
      "cell_type": "markdown",
      "metadata": {},
      "source": [
        "## Vectors and Factors"
      ]
    },
    {
      "cell_type": "markdown",
      "metadata": {},
      "source": [
        "1. How can you append `foo` to `bar` if `c(1,2,3) -> foo`, `c(4,5,6) -> bar`?"
      ]
    },
    {
      "cell_type": "code",
      "metadata": {
        "language": "R"
      },
      "execution_count": null,
      "outputs": [],
      "source": [
        "# Your R code here\n"
      ]
    },
    {
      "cell_type": "markdown",
      "metadata": {},
      "source": [
        "2. How can you turn `c(\"a\",\"b\") -> baz` into a `numeric` vector?"
      ]
    },
    {
      "cell_type": "code",
      "metadata": {
        "language": "R"
      },
      "execution_count": null,
      "outputs": [],
      "source": [
        "# Your R code here\n"
      ]
    },
    {
      "cell_type": "markdown",
      "metadata": {},
      "source": [
        "3. How can you turn `c(1,2,3) -> foo` into a `character` vector?"
      ]
    },
    {
      "cell_type": "code",
      "metadata": {
        "language": "R"
      },
      "execution_count": null,
      "outputs": [],
      "source": [
        "# Your R code here\n"
      ]
    },
    {
      "cell_type": "markdown",
      "metadata": {},
      "source": [
        "4. What will `c(1,1,1.0)`, `c(1,1,1.1)`, `c(1,1,1e+6)`, `c(1,1,0.000001e6)` print?"
      ]
    },
    {
      "cell_type": "code",
      "metadata": {
        "language": "R"
      },
      "execution_count": null,
      "outputs": [],
      "source": [
        "# Your R code here\n"
      ]
    },
    {
      "cell_type": "markdown",
      "metadata": {},
      "source": [
        "5. What R object class are: `Inf`, `NA`, `NaN`, `NULL`, and `c(NA, NaN, Inf)`?"
      ]
    },
    {
      "cell_type": "code",
      "metadata": {
        "language": "R"
      },
      "execution_count": null,
      "outputs": [],
      "source": [
        "# Your R code here\n"
      ]
    },
    {
      "cell_type": "markdown",
      "metadata": {},
      "source": [
        "6. Convert the vector `names` with the elements `\"Joe\", \"Jeff\", \"Jim\", \"Jane\"` to a factor and store it in `names_f`."
      ]
    },
    {
      "cell_type": "code",
      "metadata": {
        "language": "R"
      },
      "execution_count": null,
      "outputs": [],
      "source": [
        "# Your R code here\n"
      ]
    },
    {
      "cell_type": "markdown",
      "metadata": {},
      "source": [
        "7. Extract the levels vector of `names_f` and determine its object class using a pipe!"
      ]
    },
    {
      "cell_type": "code",
      "metadata": {
        "language": "R"
      },
      "execution_count": null,
      "outputs": [],
      "source": [
        "# Your R code here\n"
      ]
    },
    {
      "cell_type": "markdown",
      "metadata": {},
      "source": [
        "8. Create a named vector `grades` with the elements A, C, B, B for the grades of Jeff, Jim, Jane and Joe, respectively."
      ]
    },
    {
      "cell_type": "code",
      "metadata": {
        "language": "R"
      },
      "execution_count": null,
      "outputs": [],
      "source": [
        "# Your R code here\n"
      ]
    },
    {
      "cell_type": "markdown",
      "metadata": {},
      "source": [
        "9. Convert `grades` to an ordered factor `grades_f` with the `levels` A, B, C so that A > B > C."
      ]
    },
    {
      "cell_type": "code",
      "metadata": {
        "language": "R"
      },
      "execution_count": null,
      "outputs": [],
      "source": [
        "# Your R code here\n"
      ]
    },
    {
      "cell_type": "markdown",
      "metadata": {},
      "source": [
        "10. Store `grades` and `grades_f` in a `data.frame` named `df`, and then apply first `str` and then `summary` to `df`."
      ]
    },
    {
      "cell_type": "code",
      "metadata": {
        "language": "R"
      },
      "execution_count": null,
      "outputs": [],
      "source": [
        "# Your R code here\n"
      ]
    },
    {
      "cell_type": "markdown",
      "metadata": {},
      "source": [
        "11. Use `grades_f` to show that Jeff is a better student than Jim."
      ]
    },
    {
      "cell_type": "code",
      "metadata": {
        "language": "R"
      },
      "execution_count": null,
      "outputs": [],
      "source": [
        "# Your R code here\n"
      ]
    },
    {
      "cell_type": "markdown",
      "metadata": {},
      "source": [
        "12. Add two levels, D and F, to `grades_f`, and then test with `str` if it worked."
      ]
    },
    {
      "cell_type": "code",
      "metadata": {
        "language": "R"
      },
      "execution_count": null,
      "outputs": [],
      "source": [
        "# Your R code here\n"
      ]
    }
  ]
}